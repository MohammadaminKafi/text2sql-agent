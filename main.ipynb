{
 "cells": [
  {
   "cell_type": "code",
   "execution_count": 1,
   "id": "61f6efc4",
   "metadata": {},
   "outputs": [
    {
     "name": "stdout",
     "output_type": "stream",
     "text": [
      "Defaulting to user installation because normal site-packages is not writeable\n",
      "Collecting pytest\n",
      "  Downloading pytest-8.4.1-py3-none-any.whl.metadata (7.7 kB)\n",
      "Collecting pytest-cov\n",
      "  Downloading pytest_cov-6.2.1-py3-none-any.whl.metadata (30 kB)\n",
      "Requirement already satisfied: colorama>=0.4 in c:\\users\\iamin_p\\appdata\\local\\packages\\pythonsoftwarefoundation.python.3.13_qbz5n2kfra8p0\\localcache\\local-packages\\python313\\site-packages (from pytest) (0.4.6)\n",
      "Collecting iniconfig>=1 (from pytest)\n",
      "  Downloading iniconfig-2.1.0-py3-none-any.whl.metadata (2.7 kB)\n",
      "Requirement already satisfied: packaging>=20 in c:\\users\\iamin_p\\appdata\\local\\packages\\pythonsoftwarefoundation.python.3.13_qbz5n2kfra8p0\\localcache\\local-packages\\python313\\site-packages (from pytest) (24.2)\n",
      "Collecting pluggy<2,>=1.5 (from pytest)\n",
      "  Downloading pluggy-1.6.0-py3-none-any.whl.metadata (4.8 kB)\n",
      "Requirement already satisfied: pygments>=2.7.2 in c:\\users\\iamin_p\\appdata\\local\\packages\\pythonsoftwarefoundation.python.3.13_qbz5n2kfra8p0\\localcache\\local-packages\\python313\\site-packages (from pytest) (2.19.1)\n",
      "Collecting coverage>=7.5 (from coverage[toml]>=7.5->pytest-cov)\n",
      "  Downloading coverage-7.10.3-cp313-cp313-win_amd64.whl.metadata (9.2 kB)\n",
      "Downloading pytest-8.4.1-py3-none-any.whl (365 kB)\n",
      "Downloading pluggy-1.6.0-py3-none-any.whl (20 kB)\n",
      "Downloading pytest_cov-6.2.1-py3-none-any.whl (24 kB)\n",
      "Downloading coverage-7.10.3-cp313-cp313-win_amd64.whl (219 kB)\n",
      "Downloading iniconfig-2.1.0-py3-none-any.whl (6.0 kB)\n",
      "Installing collected packages: pluggy, iniconfig, coverage, pytest, pytest-cov\n",
      "\n",
      "   -------- ------------------------------- 1/5 [iniconfig]\n",
      "   ---------------- ----------------------- 2/5 [coverage]\n",
      "   ---------------- ----------------------- 2/5 [coverage]\n",
      "   ---------------- ----------------------- 2/5 [coverage]\n",
      "   ---------------- ----------------------- 2/5 [coverage]\n",
      "   ---------------- ----------------------- 2/5 [coverage]\n",
      "   ---------------- ----------------------- 2/5 [coverage]\n",
      "   ------------------------ --------------- 3/5 [pytest]\n",
      "   ------------------------ --------------- 3/5 [pytest]\n",
      "   ------------------------ --------------- 3/5 [pytest]\n",
      "   ------------------------ --------------- 3/5 [pytest]\n",
      "   ------------------------ --------------- 3/5 [pytest]\n",
      "   ------------------------ --------------- 3/5 [pytest]\n",
      "   ------------------------ --------------- 3/5 [pytest]\n",
      "   ------------------------ --------------- 3/5 [pytest]\n",
      "   -------------------------------- ------- 4/5 [pytest-cov]\n",
      "   ---------------------------------------- 5/5 [pytest-cov]\n",
      "\n",
      "Successfully installed coverage-7.10.3 iniconfig-2.1.0 pluggy-1.6.0 pytest-8.4.1 pytest-cov-6.2.1\n"
     ]
    }
   ],
   "source": [
    "!pip install pytest pytest-cov"
   ]
  },
  {
   "cell_type": "code",
   "execution_count": null,
   "id": "e6f6245e",
   "metadata": {},
   "outputs": [],
   "source": []
  }
 ],
 "metadata": {
  "kernelspec": {
   "display_name": "Python 3",
   "language": "python",
   "name": "python3"
  },
  "language_info": {
   "codemirror_mode": {
    "name": "ipython",
    "version": 3
   },
   "file_extension": ".py",
   "mimetype": "text/x-python",
   "name": "python",
   "nbconvert_exporter": "python",
   "pygments_lexer": "ipython3",
   "version": "3.13.6"
  }
 },
 "nbformat": 4,
 "nbformat_minor": 5
}
